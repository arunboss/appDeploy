{
  "nbformat": 4,
  "nbformat_minor": 0,
  "metadata": {
    "colab": {
      "name": "appDeploy.ipynb",
      "provenance": []
    },
    "kernelspec": {
      "name": "python3",
      "display_name": "Python 3"
    },
    "language_info": {
      "name": "python"
    },
    "widgets": {
      "application/vnd.jupyter.widget-state+json": {
        "bc75cc436c5a4fa79d8771057f32e3df": {
          "model_module": "@jupyter-widgets/controls",
          "model_name": "FileUploadModel",
          "model_module_version": "1.5.0",
          "state": {
            "_view_name": "FileUploadView",
            "_counter": 1,
            "style": "IPY_MODEL_b90d2238dec240c882347a8df9b06afe",
            "_dom_classes": [],
            "description": "Upload",
            "multiple": false,
            "_model_name": "FileUploadModel",
            "data": [
              null
            ],
            "button_style": "",
            "_view_module": "@jupyter-widgets/controls",
            "_model_module_version": "1.5.0",
            "accept": "",
            "_view_count": null,
            "disabled": false,
            "_view_module_version": "1.5.0",
            "error": "",
            "description_tooltip": null,
            "metadata": [
              {
                "name": "07CAT-STRIPES-mediumSquareAt3X-v2.jpeg",
                "type": "image/jpeg",
                "size": 634575,
                "lastModified": 1645071077326
              }
            ],
            "_model_module": "@jupyter-widgets/controls",
            "layout": "IPY_MODEL_860b08ff44274851acb438749eff0127",
            "icon": "upload"
          }
        },
        "b90d2238dec240c882347a8df9b06afe": {
          "model_module": "@jupyter-widgets/controls",
          "model_name": "ButtonStyleModel",
          "model_module_version": "1.5.0",
          "state": {
            "_view_name": "StyleView",
            "_model_name": "ButtonStyleModel",
            "_view_module": "@jupyter-widgets/base",
            "_model_module_version": "1.5.0",
            "_view_count": null,
            "button_color": null,
            "font_weight": "",
            "_view_module_version": "1.2.0",
            "_model_module": "@jupyter-widgets/controls"
          }
        },
        "860b08ff44274851acb438749eff0127": {
          "model_module": "@jupyter-widgets/base",
          "model_name": "LayoutModel",
          "model_module_version": "1.2.0",
          "state": {
            "_view_name": "LayoutView",
            "grid_template_rows": null,
            "right": null,
            "justify_content": null,
            "_view_module": "@jupyter-widgets/base",
            "overflow": null,
            "_model_module_version": "1.2.0",
            "_view_count": null,
            "flex_flow": null,
            "width": null,
            "min_width": null,
            "border": null,
            "align_items": null,
            "bottom": null,
            "_model_module": "@jupyter-widgets/base",
            "top": null,
            "grid_column": null,
            "overflow_y": null,
            "overflow_x": null,
            "grid_auto_flow": null,
            "grid_area": null,
            "grid_template_columns": null,
            "flex": null,
            "_model_name": "LayoutModel",
            "justify_items": null,
            "grid_row": null,
            "max_height": null,
            "align_content": null,
            "visibility": null,
            "align_self": null,
            "height": null,
            "min_height": null,
            "padding": null,
            "grid_auto_rows": null,
            "grid_gap": null,
            "max_width": null,
            "order": null,
            "_view_module_version": "1.2.0",
            "grid_template_areas": null,
            "object_position": null,
            "object_fit": null,
            "grid_auto_columns": null,
            "margin": null,
            "display": null,
            "left": null
          }
        },
        "03a46f06ece447e796d596158ea0c1ff": {
          "model_module": "@jupyter-widgets/output",
          "model_name": "OutputModel",
          "model_module_version": "1.0.0",
          "state": {
            "_view_name": "OutputView",
            "msg_id": "",
            "_dom_classes": [],
            "_model_name": "OutputModel",
            "outputs": [
              {
                "output_type": "display_data",
                "data": {
                  "image/png": "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\n",
                  "text/plain": "<PIL.Image.Image image mode=RGB size=128x64 at 0x7F4D5B79BB10>"
                },
                "metadata": {}
              }
            ],
            "_view_module": "@jupyter-widgets/output",
            "_model_module_version": "1.0.0",
            "_view_count": null,
            "_view_module_version": "1.0.0",
            "layout": "IPY_MODEL_efb77251f0884eae9604c2d3a89d73b6",
            "_model_module": "@jupyter-widgets/output"
          }
        },
        "efb77251f0884eae9604c2d3a89d73b6": {
          "model_module": "@jupyter-widgets/base",
          "model_name": "LayoutModel",
          "model_module_version": "1.2.0",
          "state": {
            "_view_name": "LayoutView",
            "grid_template_rows": null,
            "right": null,
            "justify_content": null,
            "_view_module": "@jupyter-widgets/base",
            "overflow": null,
            "_model_module_version": "1.2.0",
            "_view_count": null,
            "flex_flow": null,
            "width": null,
            "min_width": null,
            "border": null,
            "align_items": null,
            "bottom": null,
            "_model_module": "@jupyter-widgets/base",
            "top": null,
            "grid_column": null,
            "overflow_y": null,
            "overflow_x": null,
            "grid_auto_flow": null,
            "grid_area": null,
            "grid_template_columns": null,
            "flex": null,
            "_model_name": "LayoutModel",
            "justify_items": null,
            "grid_row": null,
            "max_height": null,
            "align_content": null,
            "visibility": null,
            "align_self": null,
            "height": null,
            "min_height": null,
            "padding": null,
            "grid_auto_rows": null,
            "grid_gap": null,
            "max_width": null,
            "order": null,
            "_view_module_version": "1.2.0",
            "grid_template_areas": null,
            "object_position": null,
            "object_fit": null,
            "grid_auto_columns": null,
            "margin": null,
            "display": null,
            "left": null
          }
        },
        "0c4d9f47ea8e47b79dca6f0a17367cee": {
          "model_module": "@jupyter-widgets/controls",
          "model_name": "LabelModel",
          "model_module_version": "1.5.0",
          "state": {
            "_view_name": "LabelView",
            "style": "IPY_MODEL_f930a4388d044613a72b3d93ee4b1d2f",
            "_dom_classes": [],
            "description": "",
            "_model_name": "LabelModel",
            "placeholder": "​",
            "_view_module": "@jupyter-widgets/controls",
            "_model_module_version": "1.5.0",
            "value": "Prediction: Acne; Probability: 1.0000",
            "_view_count": null,
            "_view_module_version": "1.5.0",
            "description_tooltip": null,
            "_model_module": "@jupyter-widgets/controls",
            "layout": "IPY_MODEL_9bbd4953c2774b7899a9163fa0fa32cd"
          }
        },
        "f930a4388d044613a72b3d93ee4b1d2f": {
          "model_module": "@jupyter-widgets/controls",
          "model_name": "DescriptionStyleModel",
          "model_module_version": "1.5.0",
          "state": {
            "_view_name": "StyleView",
            "_model_name": "DescriptionStyleModel",
            "description_width": "",
            "_view_module": "@jupyter-widgets/base",
            "_model_module_version": "1.5.0",
            "_view_count": null,
            "_view_module_version": "1.2.0",
            "_model_module": "@jupyter-widgets/controls"
          }
        },
        "9bbd4953c2774b7899a9163fa0fa32cd": {
          "model_module": "@jupyter-widgets/base",
          "model_name": "LayoutModel",
          "model_module_version": "1.2.0",
          "state": {
            "_view_name": "LayoutView",
            "grid_template_rows": null,
            "right": null,
            "justify_content": null,
            "_view_module": "@jupyter-widgets/base",
            "overflow": null,
            "_model_module_version": "1.2.0",
            "_view_count": null,
            "flex_flow": null,
            "width": null,
            "min_width": null,
            "border": null,
            "align_items": null,
            "bottom": null,
            "_model_module": "@jupyter-widgets/base",
            "top": null,
            "grid_column": null,
            "overflow_y": null,
            "overflow_x": null,
            "grid_auto_flow": null,
            "grid_area": null,
            "grid_template_columns": null,
            "flex": null,
            "_model_name": "LayoutModel",
            "justify_items": null,
            "grid_row": null,
            "max_height": null,
            "align_content": null,
            "visibility": null,
            "align_self": null,
            "height": null,
            "min_height": null,
            "padding": null,
            "grid_auto_rows": null,
            "grid_gap": null,
            "max_width": null,
            "order": null,
            "_view_module_version": "1.2.0",
            "grid_template_areas": null,
            "object_position": null,
            "object_fit": null,
            "grid_auto_columns": null,
            "margin": null,
            "display": null,
            "left": null
          }
        },
        "9989c3395a464af49fed91f66b65ec0c": {
          "model_module": "@jupyter-widgets/controls",
          "model_name": "ButtonModel",
          "model_module_version": "1.5.0",
          "state": {
            "_view_name": "ButtonView",
            "style": "IPY_MODEL_4e908a8e598a4fdd8e795b16fc192057",
            "_dom_classes": [],
            "description": "Classify",
            "_model_name": "ButtonModel",
            "button_style": "",
            "_view_module": "@jupyter-widgets/controls",
            "_model_module_version": "1.5.0",
            "tooltip": "",
            "_view_count": null,
            "disabled": false,
            "_view_module_version": "1.5.0",
            "layout": "IPY_MODEL_367f212ee9284cd5a27634d0a15c79ab",
            "_model_module": "@jupyter-widgets/controls",
            "icon": ""
          }
        },
        "4e908a8e598a4fdd8e795b16fc192057": {
          "model_module": "@jupyter-widgets/controls",
          "model_name": "ButtonStyleModel",
          "model_module_version": "1.5.0",
          "state": {
            "_view_name": "StyleView",
            "_model_name": "ButtonStyleModel",
            "_view_module": "@jupyter-widgets/base",
            "_model_module_version": "1.5.0",
            "_view_count": null,
            "button_color": null,
            "font_weight": "",
            "_view_module_version": "1.2.0",
            "_model_module": "@jupyter-widgets/controls"
          }
        },
        "367f212ee9284cd5a27634d0a15c79ab": {
          "model_module": "@jupyter-widgets/base",
          "model_name": "LayoutModel",
          "model_module_version": "1.2.0",
          "state": {
            "_view_name": "LayoutView",
            "grid_template_rows": null,
            "right": null,
            "justify_content": null,
            "_view_module": "@jupyter-widgets/base",
            "overflow": null,
            "_model_module_version": "1.2.0",
            "_view_count": null,
            "flex_flow": null,
            "width": null,
            "min_width": null,
            "border": null,
            "align_items": null,
            "bottom": null,
            "_model_module": "@jupyter-widgets/base",
            "top": null,
            "grid_column": null,
            "overflow_y": null,
            "overflow_x": null,
            "grid_auto_flow": null,
            "grid_area": null,
            "grid_template_columns": null,
            "flex": null,
            "_model_name": "LayoutModel",
            "justify_items": null,
            "grid_row": null,
            "max_height": null,
            "align_content": null,
            "visibility": null,
            "align_self": null,
            "height": null,
            "min_height": null,
            "padding": null,
            "grid_auto_rows": null,
            "grid_gap": null,
            "max_width": null,
            "order": null,
            "_view_module_version": "1.2.0",
            "grid_template_areas": null,
            "object_position": null,
            "object_fit": null,
            "grid_auto_columns": null,
            "margin": null,
            "display": null,
            "left": null
          }
        },
        "b27d88a0235d4cc89b7fc53f4f71ee64": {
          "model_module": "@jupyter-widgets/controls",
          "model_name": "VBoxModel",
          "model_module_version": "1.5.0",
          "state": {
            "_view_name": "VBoxView",
            "_dom_classes": [],
            "_model_name": "VBoxModel",
            "_view_module": "@jupyter-widgets/controls",
            "_model_module_version": "1.5.0",
            "_view_count": null,
            "_view_module_version": "1.5.0",
            "box_style": "",
            "layout": "IPY_MODEL_ec6b55686a824ac89dc870489b5e5ae0",
            "_model_module": "@jupyter-widgets/controls",
            "children": [
              "IPY_MODEL_7ff70a86b3d74aed9af33d8a0b9889ee",
              "IPY_MODEL_6315083d870d4b89b076e44f43a92b9a",
              "IPY_MODEL_9989c3395a464af49fed91f66b65ec0c",
              "IPY_MODEL_03a46f06ece447e796d596158ea0c1ff",
              "IPY_MODEL_0c4d9f47ea8e47b79dca6f0a17367cee"
            ]
          }
        },
        "ec6b55686a824ac89dc870489b5e5ae0": {
          "model_module": "@jupyter-widgets/base",
          "model_name": "LayoutModel",
          "model_module_version": "1.2.0",
          "state": {
            "_view_name": "LayoutView",
            "grid_template_rows": null,
            "right": null,
            "justify_content": null,
            "_view_module": "@jupyter-widgets/base",
            "overflow": null,
            "_model_module_version": "1.2.0",
            "_view_count": null,
            "flex_flow": null,
            "width": null,
            "min_width": null,
            "border": null,
            "align_items": null,
            "bottom": null,
            "_model_module": "@jupyter-widgets/base",
            "top": null,
            "grid_column": null,
            "overflow_y": null,
            "overflow_x": null,
            "grid_auto_flow": null,
            "grid_area": null,
            "grid_template_columns": null,
            "flex": null,
            "_model_name": "LayoutModel",
            "justify_items": null,
            "grid_row": null,
            "max_height": null,
            "align_content": null,
            "visibility": null,
            "align_self": null,
            "height": null,
            "min_height": null,
            "padding": null,
            "grid_auto_rows": null,
            "grid_gap": null,
            "max_width": null,
            "order": null,
            "_view_module_version": "1.2.0",
            "grid_template_areas": null,
            "object_position": null,
            "object_fit": null,
            "grid_auto_columns": null,
            "margin": null,
            "display": null,
            "left": null
          }
        },
        "7ff70a86b3d74aed9af33d8a0b9889ee": {
          "model_module": "@jupyter-widgets/controls",
          "model_name": "LabelModel",
          "model_module_version": "1.5.0",
          "state": {
            "_view_name": "LabelView",
            "style": "IPY_MODEL_5e9c5b97cee1468f98a28f526d091aef",
            "_dom_classes": [],
            "description": "",
            "_model_name": "LabelModel",
            "placeholder": "​",
            "_view_module": "@jupyter-widgets/controls",
            "_model_module_version": "1.5.0",
            "value": "Select your bear!",
            "_view_count": null,
            "_view_module_version": "1.5.0",
            "description_tooltip": null,
            "_model_module": "@jupyter-widgets/controls",
            "layout": "IPY_MODEL_c939670b20d44575bbd94714b44c3338"
          }
        },
        "6315083d870d4b89b076e44f43a92b9a": {
          "model_module": "@jupyter-widgets/controls",
          "model_name": "FileUploadModel",
          "model_module_version": "1.5.0",
          "state": {
            "_view_name": "FileUploadView",
            "_counter": 1,
            "style": "IPY_MODEL_eeba25439d2f489dadfc4786c2dee298",
            "_dom_classes": [],
            "description": "Upload",
            "multiple": false,
            "_model_name": "FileUploadModel",
            "data": [
              null
            ],
            "button_style": "",
            "_view_module": "@jupyter-widgets/controls",
            "_model_module_version": "1.5.0",
            "accept": "",
            "_view_count": null,
            "disabled": false,
            "_view_module_version": "1.5.0",
            "error": "",
            "description_tooltip": null,
            "metadata": [
              {
                "name": "dog-puppy-on-garden-royalty-free-image-1586966191.jpeg",
                "type": "image/jpeg",
                "size": 80864,
                "lastModified": 1645073796867
              }
            ],
            "_model_module": "@jupyter-widgets/controls",
            "layout": "IPY_MODEL_40c10aa7e74f4ac4a4593aca7bc6935a",
            "icon": "upload"
          }
        },
        "5e9c5b97cee1468f98a28f526d091aef": {
          "model_module": "@jupyter-widgets/controls",
          "model_name": "DescriptionStyleModel",
          "model_module_version": "1.5.0",
          "state": {
            "_view_name": "StyleView",
            "_model_name": "DescriptionStyleModel",
            "description_width": "",
            "_view_module": "@jupyter-widgets/base",
            "_model_module_version": "1.5.0",
            "_view_count": null,
            "_view_module_version": "1.2.0",
            "_model_module": "@jupyter-widgets/controls"
          }
        },
        "c939670b20d44575bbd94714b44c3338": {
          "model_module": "@jupyter-widgets/base",
          "model_name": "LayoutModel",
          "model_module_version": "1.2.0",
          "state": {
            "_view_name": "LayoutView",
            "grid_template_rows": null,
            "right": null,
            "justify_content": null,
            "_view_module": "@jupyter-widgets/base",
            "overflow": null,
            "_model_module_version": "1.2.0",
            "_view_count": null,
            "flex_flow": null,
            "width": null,
            "min_width": null,
            "border": null,
            "align_items": null,
            "bottom": null,
            "_model_module": "@jupyter-widgets/base",
            "top": null,
            "grid_column": null,
            "overflow_y": null,
            "overflow_x": null,
            "grid_auto_flow": null,
            "grid_area": null,
            "grid_template_columns": null,
            "flex": null,
            "_model_name": "LayoutModel",
            "justify_items": null,
            "grid_row": null,
            "max_height": null,
            "align_content": null,
            "visibility": null,
            "align_self": null,
            "height": null,
            "min_height": null,
            "padding": null,
            "grid_auto_rows": null,
            "grid_gap": null,
            "max_width": null,
            "order": null,
            "_view_module_version": "1.2.0",
            "grid_template_areas": null,
            "object_position": null,
            "object_fit": null,
            "grid_auto_columns": null,
            "margin": null,
            "display": null,
            "left": null
          }
        },
        "eeba25439d2f489dadfc4786c2dee298": {
          "model_module": "@jupyter-widgets/controls",
          "model_name": "ButtonStyleModel",
          "model_module_version": "1.5.0",
          "state": {
            "_view_name": "StyleView",
            "_model_name": "ButtonStyleModel",
            "_view_module": "@jupyter-widgets/base",
            "_model_module_version": "1.5.0",
            "_view_count": null,
            "button_color": null,
            "font_weight": "",
            "_view_module_version": "1.2.0",
            "_model_module": "@jupyter-widgets/controls"
          }
        },
        "40c10aa7e74f4ac4a4593aca7bc6935a": {
          "model_module": "@jupyter-widgets/base",
          "model_name": "LayoutModel",
          "model_module_version": "1.2.0",
          "state": {
            "_view_name": "LayoutView",
            "grid_template_rows": null,
            "right": null,
            "justify_content": null,
            "_view_module": "@jupyter-widgets/base",
            "overflow": null,
            "_model_module_version": "1.2.0",
            "_view_count": null,
            "flex_flow": null,
            "width": null,
            "min_width": null,
            "border": null,
            "align_items": null,
            "bottom": null,
            "_model_module": "@jupyter-widgets/base",
            "top": null,
            "grid_column": null,
            "overflow_y": null,
            "overflow_x": null,
            "grid_auto_flow": null,
            "grid_area": null,
            "grid_template_columns": null,
            "flex": null,
            "_model_name": "LayoutModel",
            "justify_items": null,
            "grid_row": null,
            "max_height": null,
            "align_content": null,
            "visibility": null,
            "align_self": null,
            "height": null,
            "min_height": null,
            "padding": null,
            "grid_auto_rows": null,
            "grid_gap": null,
            "max_width": null,
            "order": null,
            "_view_module_version": "1.2.0",
            "grid_template_areas": null,
            "object_position": null,
            "object_fit": null,
            "grid_auto_columns": null,
            "margin": null,
            "display": null,
            "left": null
          }
        }
      }
    }
  },
  "cells": [
    {
      "cell_type": "code",
      "source": [
        "#hide\n",
        "!pip install voila\n",
        "!jupyter serverextension enable --sys-prefix voila "
      ],
      "metadata": {
        "id": "9yit2spZzpXs"
      },
      "execution_count": null,
      "outputs": []
    },
    {
      "cell_type": "code",
      "source": [
        "#hide\n",
        "!pip install -Uqq fastbook\n",
        "import fastbook\n",
        "fastbook.setup_book()"
      ],
      "metadata": {
        "colab": {
          "base_uri": "https://localhost:8080/"
        },
        "id": "arC8K85vxZju",
        "outputId": "772a27f7-5cc9-4379-b827-891b137bc459"
      },
      "execution_count": 5,
      "outputs": [
        {
          "output_type": "stream",
          "name": "stdout",
          "text": [
            "\u001b[K     |████████████████████████████████| 720 kB 4.4 MB/s \n",
            "\u001b[K     |████████████████████████████████| 48 kB 3.6 MB/s \n",
            "\u001b[K     |████████████████████████████████| 1.2 MB 38.7 MB/s \n",
            "\u001b[K     |████████████████████████████████| 189 kB 51.5 MB/s \n",
            "\u001b[K     |████████████████████████████████| 56 kB 3.6 MB/s \n",
            "\u001b[K     |████████████████████████████████| 51 kB 245 kB/s \n",
            "\u001b[K     |████████████████████████████████| 558 kB 43.3 MB/s \n",
            "\u001b[K     |████████████████████████████████| 130 kB 46.0 MB/s \n",
            "\u001b[?25hMounted at /content/gdrive\n"
          ]
        }
      ]
    },
    {
      "cell_type": "code",
      "source": [
        "#hide\n",
        "from fastbook import *\n",
        "from fastai.vision.widgets import *"
      ],
      "metadata": {
        "id": "V6aAyvomxbOL"
      },
      "execution_count": 6,
      "outputs": []
    },
    {
      "cell_type": "code",
      "execution_count": 7,
      "metadata": {
        "colab": {
          "base_uri": "https://localhost:8080/",
          "height": 49,
          "referenced_widgets": [
            "bc75cc436c5a4fa79d8771057f32e3df",
            "b90d2238dec240c882347a8df9b06afe",
            "860b08ff44274851acb438749eff0127"
          ]
        },
        "id": "808C6kTWxJ1_",
        "outputId": "12882baf-5770-4cb9-8548-c6b17cbfa3ac"
      },
      "outputs": [
        {
          "output_type": "display_data",
          "data": {
            "application/vnd.jupyter.widget-view+json": {
              "model_id": "bc75cc436c5a4fa79d8771057f32e3df",
              "version_minor": 0,
              "version_major": 2
            },
            "text/plain": [
              "FileUpload(value={}, description='Upload')"
            ]
          },
          "metadata": {}
        }
      ],
      "source": [
        "#hide_output\n",
        "btn_upload = widgets.FileUpload()\n",
        "btn_upload"
      ]
    },
    {
      "cell_type": "code",
      "source": [
        "img = PILImage.create(btn_upload.data[-1])"
      ],
      "metadata": {
        "id": "wsQT2EctyIiW"
      },
      "execution_count": 9,
      "outputs": []
    },
    {
      "cell_type": "code",
      "source": [
        "#hide_output\n",
        "out_pl = widgets.Output()\n",
        "out_pl.clear_output()\n",
        "with out_pl: display(img.to_thumb(128,128))\n",
        "out_pl"
      ],
      "metadata": {
        "colab": {
          "base_uri": "https://localhost:8080/",
          "height": 81,
          "referenced_widgets": [
            "03a46f06ece447e796d596158ea0c1ff",
            "efb77251f0884eae9604c2d3a89d73b6"
          ]
        },
        "id": "PbCQFpQCxQCP",
        "outputId": "4c42f8a5-956f-45ee-9975-0c372640f2dd"
      },
      "execution_count": 10,
      "outputs": [
        {
          "output_type": "display_data",
          "data": {
            "application/vnd.jupyter.widget-view+json": {
              "model_id": "03a46f06ece447e796d596158ea0c1ff",
              "version_minor": 0,
              "version_major": 2
            },
            "text/plain": [
              "Output()"
            ]
          },
          "metadata": {}
        }
      ]
    },
    {
      "cell_type": "code",
      "source": [
        "path = Path('/content/gdrive/MyDrive/Images/Tester')\n",
        "learn_inf = load_learner(path/'skinModel1_0.pkl')\n",
        "pred,pred_idx,probs = learn_inf.predict(img)"
      ],
      "metadata": {
        "colab": {
          "base_uri": "https://localhost:8080/",
          "height": 17
        },
        "id": "JDacbiofyFCQ",
        "outputId": "3598a112-99b2-4208-dd34-31fea14dd230"
      },
      "execution_count": 13,
      "outputs": [
        {
          "output_type": "display_data",
          "data": {
            "text/html": [
              ""
            ],
            "text/plain": [
              "<IPython.core.display.HTML object>"
            ]
          },
          "metadata": {}
        }
      ]
    },
    {
      "cell_type": "code",
      "source": [
        "#hide_output\n",
        "lbl_pred = widgets.Label()\n",
        "lbl_pred.value = f'Prediction: {pred}; Probability: {probs[pred_idx]:.04f}'\n",
        "lbl_pred"
      ],
      "metadata": {
        "colab": {
          "base_uri": "https://localhost:8080/",
          "height": 49,
          "referenced_widgets": [
            "0c4d9f47ea8e47b79dca6f0a17367cee",
            "f930a4388d044613a72b3d93ee4b1d2f",
            "9bbd4953c2774b7899a9163fa0fa32cd"
          ]
        },
        "id": "TP4xO_p4yMST",
        "outputId": "2b40b08d-1501-41d6-ac53-43064d944110"
      },
      "execution_count": 14,
      "outputs": [
        {
          "output_type": "display_data",
          "data": {
            "application/vnd.jupyter.widget-view+json": {
              "model_id": "0c4d9f47ea8e47b79dca6f0a17367cee",
              "version_minor": 0,
              "version_major": 2
            },
            "text/plain": [
              "Label(value='Prediction: Acne; Probability: 0.5202')"
            ]
          },
          "metadata": {}
        }
      ]
    },
    {
      "cell_type": "code",
      "source": [
        "#hide_output\n",
        "btn_run = widgets.Button(description='Classify')\n",
        "btn_run"
      ],
      "metadata": {
        "colab": {
          "base_uri": "https://localhost:8080/",
          "height": 49,
          "referenced_widgets": [
            "9989c3395a464af49fed91f66b65ec0c",
            "4e908a8e598a4fdd8e795b16fc192057",
            "367f212ee9284cd5a27634d0a15c79ab"
          ]
        },
        "id": "YtcthOh6yl3C",
        "outputId": "bf631c54-5082-4a63-eb58-dfcae60024c0"
      },
      "execution_count": 15,
      "outputs": [
        {
          "output_type": "display_data",
          "data": {
            "application/vnd.jupyter.widget-view+json": {
              "model_id": "9989c3395a464af49fed91f66b65ec0c",
              "version_minor": 0,
              "version_major": 2
            },
            "text/plain": [
              "Button(description='Classify', style=ButtonStyle())"
            ]
          },
          "metadata": {}
        },
        {
          "output_type": "display_data",
          "data": {
            "text/html": [
              ""
            ],
            "text/plain": [
              "<IPython.core.display.HTML object>"
            ]
          },
          "metadata": {}
        },
        {
          "output_type": "display_data",
          "data": {
            "text/html": [
              ""
            ],
            "text/plain": [
              "<IPython.core.display.HTML object>"
            ]
          },
          "metadata": {}
        }
      ]
    },
    {
      "cell_type": "code",
      "source": [
        "def on_click_classify(change):\n",
        "    img = PILImage.create(btn_upload.data[-1])\n",
        "    out_pl.clear_output()\n",
        "    with out_pl: display(img.to_thumb(128,128))\n",
        "    pred,pred_idx,probs = learn_inf.predict(img)\n",
        "    lbl_pred.value = f'Prediction: {pred}; Probability: {probs[pred_idx]:.04f}'\n",
        "\n",
        "btn_run.on_click(on_click_classify)"
      ],
      "metadata": {
        "id": "iQM9aXUzyq3S"
      },
      "execution_count": 16,
      "outputs": []
    },
    {
      "cell_type": "code",
      "source": [
        "#hide\n",
        "#Putting back btn_upload to a widget for next cell\n",
        "btn_upload = widgets.FileUpload()"
      ],
      "metadata": {
        "id": "6X7wfnCuys8C"
      },
      "execution_count": 17,
      "outputs": []
    },
    {
      "cell_type": "code",
      "source": [
        "#hide_output\n",
        "VBox([widgets.Label('Select your bear!'), \n",
        "      btn_upload, btn_run, out_pl, lbl_pred])"
      ],
      "metadata": {
        "colab": {
          "base_uri": "https://localhost:8080/",
          "height": 209,
          "referenced_widgets": [
            "b27d88a0235d4cc89b7fc53f4f71ee64",
            "ec6b55686a824ac89dc870489b5e5ae0",
            "7ff70a86b3d74aed9af33d8a0b9889ee",
            "6315083d870d4b89b076e44f43a92b9a",
            "9989c3395a464af49fed91f66b65ec0c",
            "03a46f06ece447e796d596158ea0c1ff",
            "0c4d9f47ea8e47b79dca6f0a17367cee",
            "5e9c5b97cee1468f98a28f526d091aef",
            "c939670b20d44575bbd94714b44c3338",
            "eeba25439d2f489dadfc4786c2dee298",
            "40c10aa7e74f4ac4a4593aca7bc6935a",
            "4e908a8e598a4fdd8e795b16fc192057",
            "367f212ee9284cd5a27634d0a15c79ab",
            "f930a4388d044613a72b3d93ee4b1d2f",
            "9bbd4953c2774b7899a9163fa0fa32cd",
            "efb77251f0884eae9604c2d3a89d73b6"
          ]
        },
        "id": "CYg2IP1Uyzlf",
        "outputId": "b4df2b72-53ee-4a10-a3e7-b7d4491a1bfb"
      },
      "execution_count": 18,
      "outputs": [
        {
          "output_type": "display_data",
          "data": {
            "application/vnd.jupyter.widget-view+json": {
              "model_id": "b27d88a0235d4cc89b7fc53f4f71ee64",
              "version_minor": 0,
              "version_major": 2
            },
            "text/plain": [
              "VBox(children=(Label(value='Select your bear!'), FileUpload(value={}, description='Upload'), Button(descriptio…"
            ]
          },
          "metadata": {}
        },
        {
          "output_type": "display_data",
          "data": {
            "text/html": [
              ""
            ],
            "text/plain": [
              "<IPython.core.display.HTML object>"
            ]
          },
          "metadata": {}
        }
      ]
    },
    {
      "cell_type": "code",
      "source": [
        ""
      ],
      "metadata": {
        "id": "-GxZwbL4y1hq"
      },
      "execution_count": null,
      "outputs": []
    }
  ]
}