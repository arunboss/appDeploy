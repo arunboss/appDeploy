{
  "nbformat": 4,
  "nbformat_minor": 0,
  "metadata": {
    "colab": {
      "name": "appDeploy.ipynb",
      "provenance": []
    },
    "kernelspec": {
      "name": "python3",
      "display_name": "Python 3"
    },
    "language_info": {
      "name": "python"
    },
    "widgets": {
      "application/vnd.jupyter.widget-state+json": {
        "3b5ad56754634126896bf67090ddbbc2": {
          "model_module": "@jupyter-widgets/controls",
          "model_name": "VBoxModel",
          "model_module_version": "1.5.0",
          "state": {
            "_view_name": "VBoxView",
            "_dom_classes": [],
            "_model_name": "VBoxModel",
            "_view_module": "@jupyter-widgets/controls",
            "_model_module_version": "1.5.0",
            "_view_count": null,
            "_view_module_version": "1.5.0",
            "box_style": "",
            "layout": "IPY_MODEL_463918708bda45a794c5c741b66f9df0",
            "_model_module": "@jupyter-widgets/controls",
            "children": [
              "IPY_MODEL_c005be6c52234a28a88ea82864e6a381",
              "IPY_MODEL_b879905c9b5243ed8b08a273a481b632",
              "IPY_MODEL_ad49517b949f4b58985eb425c466f800",
              "IPY_MODEL_02ac60d6ef604bd0bedc981e5ff82c6f",
              "IPY_MODEL_ec2a8a217e154440b11fc7ed64a7f072"
            ]
          }
        },
        "463918708bda45a794c5c741b66f9df0": {
          "model_module": "@jupyter-widgets/base",
          "model_name": "LayoutModel",
          "model_module_version": "1.2.0",
          "state": {
            "_view_name": "LayoutView",
            "grid_template_rows": null,
            "right": null,
            "justify_content": null,
            "_view_module": "@jupyter-widgets/base",
            "overflow": null,
            "_model_module_version": "1.2.0",
            "_view_count": null,
            "flex_flow": null,
            "width": null,
            "min_width": null,
            "border": null,
            "align_items": null,
            "bottom": null,
            "_model_module": "@jupyter-widgets/base",
            "top": null,
            "grid_column": null,
            "overflow_y": null,
            "overflow_x": null,
            "grid_auto_flow": null,
            "grid_area": null,
            "grid_template_columns": null,
            "flex": null,
            "_model_name": "LayoutModel",
            "justify_items": null,
            "grid_row": null,
            "max_height": null,
            "align_content": null,
            "visibility": null,
            "align_self": null,
            "height": null,
            "min_height": null,
            "padding": null,
            "grid_auto_rows": null,
            "grid_gap": null,
            "max_width": null,
            "order": null,
            "_view_module_version": "1.2.0",
            "grid_template_areas": null,
            "object_position": null,
            "object_fit": null,
            "grid_auto_columns": null,
            "margin": null,
            "display": null,
            "left": null
          }
        },
        "c005be6c52234a28a88ea82864e6a381": {
          "model_module": "@jupyter-widgets/controls",
          "model_name": "LabelModel",
          "model_module_version": "1.5.0",
          "state": {
            "_view_name": "LabelView",
            "style": "IPY_MODEL_b693d0312c4545dd9c778f7f5db2b10b",
            "_dom_classes": [],
            "description": "",
            "_model_name": "LabelModel",
            "placeholder": "​",
            "_view_module": "@jupyter-widgets/controls",
            "_model_module_version": "1.5.0",
            "value": "Select your image!",
            "_view_count": null,
            "_view_module_version": "1.5.0",
            "description_tooltip": null,
            "_model_module": "@jupyter-widgets/controls",
            "layout": "IPY_MODEL_62902d84218d4b249e9e558686abbee8"
          }
        },
        "b879905c9b5243ed8b08a273a481b632": {
          "model_module": "@jupyter-widgets/controls",
          "model_name": "FileUploadModel",
          "model_module_version": "1.5.0",
          "state": {
            "_view_name": "FileUploadView",
            "_counter": 11,
            "style": "IPY_MODEL_8b7bff68594b4e009efc631a74224ab9",
            "_dom_classes": [],
            "description": "Upload",
            "multiple": false,
            "_model_name": "FileUploadModel",
            "data": [
              null
            ],
            "button_style": "",
            "_view_module": "@jupyter-widgets/controls",
            "_model_module_version": "1.5.0",
            "accept": "",
            "_view_count": null,
            "disabled": false,
            "_view_module_version": "1.5.0",
            "error": "",
            "description_tooltip": null,
            "metadata": [
              {
                "name": "istockphoto-1334629408-170667a.jpeg",
                "type": "image/jpeg",
                "size": 71470,
                "lastModified": 1645505583872
              }
            ],
            "_model_module": "@jupyter-widgets/controls",
            "layout": "IPY_MODEL_9231c761b8204f32b6b1b7fe3df53cfd",
            "icon": "upload"
          }
        },
        "ad49517b949f4b58985eb425c466f800": {
          "model_module": "@jupyter-widgets/controls",
          "model_name": "ButtonModel",
          "model_module_version": "1.5.0",
          "state": {
            "_view_name": "ButtonView",
            "style": "IPY_MODEL_dedbb42e05b7418cbed7d05603e43c47",
            "_dom_classes": [],
            "description": "Classify",
            "_model_name": "ButtonModel",
            "button_style": "",
            "_view_module": "@jupyter-widgets/controls",
            "_model_module_version": "1.5.0",
            "tooltip": "",
            "_view_count": null,
            "disabled": false,
            "_view_module_version": "1.5.0",
            "layout": "IPY_MODEL_81dc2b3905ae4899b474b41658f85c6a",
            "_model_module": "@jupyter-widgets/controls",
            "icon": ""
          }
        },
        "02ac60d6ef604bd0bedc981e5ff82c6f": {
          "model_module": "@jupyter-widgets/output",
          "model_name": "OutputModel",
          "model_module_version": "1.0.0",
          "state": {
            "_view_name": "OutputView",
            "msg_id": "",
            "_dom_classes": [],
            "_model_name": "OutputModel",
            "outputs": [
              {
                "output_type": "display_data",
                "data": {
                  "image/png": "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\n",
                  "text/plain": "<PIL.Image.Image image mode=RGB size=128x86 at 0x7EFD2A62BF90>"
                },
                "metadata": {}
              }
            ],
            "_view_module": "@jupyter-widgets/output",
            "_model_module_version": "1.0.0",
            "_view_count": null,
            "_view_module_version": "1.0.0",
            "layout": "IPY_MODEL_f06285ff55084e16bb50a0e813398879",
            "_model_module": "@jupyter-widgets/output"
          }
        },
        "ec2a8a217e154440b11fc7ed64a7f072": {
          "model_module": "@jupyter-widgets/controls",
          "model_name": "LabelModel",
          "model_module_version": "1.5.0",
          "state": {
            "_view_name": "LabelView",
            "style": "IPY_MODEL_e2df09764a7d4a2abe1e96976e545652",
            "_dom_classes": [],
            "description": "",
            "_model_name": "LabelModel",
            "placeholder": "​",
            "_view_module": "@jupyter-widgets/controls",
            "_model_module_version": "1.5.0",
            "value": "Prediction: Vitiligo; Probability: 0.9017",
            "_view_count": null,
            "_view_module_version": "1.5.0",
            "description_tooltip": null,
            "_model_module": "@jupyter-widgets/controls",
            "layout": "IPY_MODEL_7f2af20bfb694bf6bd7b62a52df6022f"
          }
        },
        "b693d0312c4545dd9c778f7f5db2b10b": {
          "model_module": "@jupyter-widgets/controls",
          "model_name": "DescriptionStyleModel",
          "model_module_version": "1.5.0",
          "state": {
            "_view_name": "StyleView",
            "_model_name": "DescriptionStyleModel",
            "description_width": "",
            "_view_module": "@jupyter-widgets/base",
            "_model_module_version": "1.5.0",
            "_view_count": null,
            "_view_module_version": "1.2.0",
            "_model_module": "@jupyter-widgets/controls"
          }
        },
        "62902d84218d4b249e9e558686abbee8": {
          "model_module": "@jupyter-widgets/base",
          "model_name": "LayoutModel",
          "model_module_version": "1.2.0",
          "state": {
            "_view_name": "LayoutView",
            "grid_template_rows": null,
            "right": null,
            "justify_content": null,
            "_view_module": "@jupyter-widgets/base",
            "overflow": null,
            "_model_module_version": "1.2.0",
            "_view_count": null,
            "flex_flow": null,
            "width": null,
            "min_width": null,
            "border": null,
            "align_items": null,
            "bottom": null,
            "_model_module": "@jupyter-widgets/base",
            "top": null,
            "grid_column": null,
            "overflow_y": null,
            "overflow_x": null,
            "grid_auto_flow": null,
            "grid_area": null,
            "grid_template_columns": null,
            "flex": null,
            "_model_name": "LayoutModel",
            "justify_items": null,
            "grid_row": null,
            "max_height": null,
            "align_content": null,
            "visibility": null,
            "align_self": null,
            "height": null,
            "min_height": null,
            "padding": null,
            "grid_auto_rows": null,
            "grid_gap": null,
            "max_width": null,
            "order": null,
            "_view_module_version": "1.2.0",
            "grid_template_areas": null,
            "object_position": null,
            "object_fit": null,
            "grid_auto_columns": null,
            "margin": null,
            "display": null,
            "left": null
          }
        },
        "8b7bff68594b4e009efc631a74224ab9": {
          "model_module": "@jupyter-widgets/controls",
          "model_name": "ButtonStyleModel",
          "model_module_version": "1.5.0",
          "state": {
            "_view_name": "StyleView",
            "_model_name": "ButtonStyleModel",
            "_view_module": "@jupyter-widgets/base",
            "_model_module_version": "1.5.0",
            "_view_count": null,
            "button_color": null,
            "font_weight": "",
            "_view_module_version": "1.2.0",
            "_model_module": "@jupyter-widgets/controls"
          }
        },
        "9231c761b8204f32b6b1b7fe3df53cfd": {
          "model_module": "@jupyter-widgets/base",
          "model_name": "LayoutModel",
          "model_module_version": "1.2.0",
          "state": {
            "_view_name": "LayoutView",
            "grid_template_rows": null,
            "right": null,
            "justify_content": null,
            "_view_module": "@jupyter-widgets/base",
            "overflow": null,
            "_model_module_version": "1.2.0",
            "_view_count": null,
            "flex_flow": null,
            "width": null,
            "min_width": null,
            "border": null,
            "align_items": null,
            "bottom": null,
            "_model_module": "@jupyter-widgets/base",
            "top": null,
            "grid_column": null,
            "overflow_y": null,
            "overflow_x": null,
            "grid_auto_flow": null,
            "grid_area": null,
            "grid_template_columns": null,
            "flex": null,
            "_model_name": "LayoutModel",
            "justify_items": null,
            "grid_row": null,
            "max_height": null,
            "align_content": null,
            "visibility": null,
            "align_self": null,
            "height": null,
            "min_height": null,
            "padding": null,
            "grid_auto_rows": null,
            "grid_gap": null,
            "max_width": null,
            "order": null,
            "_view_module_version": "1.2.0",
            "grid_template_areas": null,
            "object_position": null,
            "object_fit": null,
            "grid_auto_columns": null,
            "margin": null,
            "display": null,
            "left": null
          }
        },
        "dedbb42e05b7418cbed7d05603e43c47": {
          "model_module": "@jupyter-widgets/controls",
          "model_name": "ButtonStyleModel",
          "model_module_version": "1.5.0",
          "state": {
            "_view_name": "StyleView",
            "_model_name": "ButtonStyleModel",
            "_view_module": "@jupyter-widgets/base",
            "_model_module_version": "1.5.0",
            "_view_count": null,
            "button_color": null,
            "font_weight": "",
            "_view_module_version": "1.2.0",
            "_model_module": "@jupyter-widgets/controls"
          }
        },
        "81dc2b3905ae4899b474b41658f85c6a": {
          "model_module": "@jupyter-widgets/base",
          "model_name": "LayoutModel",
          "model_module_version": "1.2.0",
          "state": {
            "_view_name": "LayoutView",
            "grid_template_rows": null,
            "right": null,
            "justify_content": null,
            "_view_module": "@jupyter-widgets/base",
            "overflow": null,
            "_model_module_version": "1.2.0",
            "_view_count": null,
            "flex_flow": null,
            "width": null,
            "min_width": null,
            "border": null,
            "align_items": null,
            "bottom": null,
            "_model_module": "@jupyter-widgets/base",
            "top": null,
            "grid_column": null,
            "overflow_y": null,
            "overflow_x": null,
            "grid_auto_flow": null,
            "grid_area": null,
            "grid_template_columns": null,
            "flex": null,
            "_model_name": "LayoutModel",
            "justify_items": null,
            "grid_row": null,
            "max_height": null,
            "align_content": null,
            "visibility": null,
            "align_self": null,
            "height": null,
            "min_height": null,
            "padding": null,
            "grid_auto_rows": null,
            "grid_gap": null,
            "max_width": null,
            "order": null,
            "_view_module_version": "1.2.0",
            "grid_template_areas": null,
            "object_position": null,
            "object_fit": null,
            "grid_auto_columns": null,
            "margin": null,
            "display": null,
            "left": null
          }
        },
        "e2df09764a7d4a2abe1e96976e545652": {
          "model_module": "@jupyter-widgets/controls",
          "model_name": "DescriptionStyleModel",
          "model_module_version": "1.5.0",
          "state": {
            "_view_name": "StyleView",
            "_model_name": "DescriptionStyleModel",
            "description_width": "",
            "_view_module": "@jupyter-widgets/base",
            "_model_module_version": "1.5.0",
            "_view_count": null,
            "_view_module_version": "1.2.0",
            "_model_module": "@jupyter-widgets/controls"
          }
        },
        "7f2af20bfb694bf6bd7b62a52df6022f": {
          "model_module": "@jupyter-widgets/base",
          "model_name": "LayoutModel",
          "model_module_version": "1.2.0",
          "state": {
            "_view_name": "LayoutView",
            "grid_template_rows": null,
            "right": null,
            "justify_content": null,
            "_view_module": "@jupyter-widgets/base",
            "overflow": null,
            "_model_module_version": "1.2.0",
            "_view_count": null,
            "flex_flow": null,
            "width": null,
            "min_width": null,
            "border": null,
            "align_items": null,
            "bottom": null,
            "_model_module": "@jupyter-widgets/base",
            "top": null,
            "grid_column": null,
            "overflow_y": null,
            "overflow_x": null,
            "grid_auto_flow": null,
            "grid_area": null,
            "grid_template_columns": null,
            "flex": null,
            "_model_name": "LayoutModel",
            "justify_items": null,
            "grid_row": null,
            "max_height": null,
            "align_content": null,
            "visibility": null,
            "align_self": null,
            "height": null,
            "min_height": null,
            "padding": null,
            "grid_auto_rows": null,
            "grid_gap": null,
            "max_width": null,
            "order": null,
            "_view_module_version": "1.2.0",
            "grid_template_areas": null,
            "object_position": null,
            "object_fit": null,
            "grid_auto_columns": null,
            "margin": null,
            "display": null,
            "left": null
          }
        },
        "f06285ff55084e16bb50a0e813398879": {
          "model_module": "@jupyter-widgets/base",
          "model_name": "LayoutModel",
          "model_module_version": "1.2.0",
          "state": {
            "_view_name": "LayoutView",
            "grid_template_rows": null,
            "right": null,
            "justify_content": null,
            "_view_module": "@jupyter-widgets/base",
            "overflow": null,
            "_model_module_version": "1.2.0",
            "_view_count": null,
            "flex_flow": null,
            "width": null,
            "min_width": null,
            "border": null,
            "align_items": null,
            "bottom": null,
            "_model_module": "@jupyter-widgets/base",
            "top": null,
            "grid_column": null,
            "overflow_y": null,
            "overflow_x": null,
            "grid_auto_flow": null,
            "grid_area": null,
            "grid_template_columns": null,
            "flex": null,
            "_model_name": "LayoutModel",
            "justify_items": null,
            "grid_row": null,
            "max_height": null,
            "align_content": null,
            "visibility": null,
            "align_self": null,
            "height": null,
            "min_height": null,
            "padding": null,
            "grid_auto_rows": null,
            "grid_gap": null,
            "max_width": null,
            "order": null,
            "_view_module_version": "1.2.0",
            "grid_template_areas": null,
            "object_position": null,
            "object_fit": null,
            "grid_auto_columns": null,
            "margin": null,
            "display": null,
            "left": null
          }
        }
      }
    }
  },
  "cells": [
    {
      "cell_type": "code",
      "source": [
        "#hide\n",
        "# !pip install voila\n",
        "# !jupyter serverextension enable --sys-prefix voila "
      ],
      "metadata": {
        "id": "9yit2spZzpXs"
      },
      "execution_count": 1,
      "outputs": []
    },
    {
      "cell_type": "code",
      "source": [
        "#hide\n",
        "!pip install -Uqq fastbook\n",
        "import fastbook\n",
        "fastbook.setup_book()"
      ],
      "metadata": {
        "colab": {
          "base_uri": "https://localhost:8080/"
        },
        "id": "arC8K85vxZju",
        "outputId": "a2175b43-08c6-4655-9ac4-02946fce3ffa"
      },
      "execution_count": 1,
      "outputs": [
        {
          "output_type": "stream",
          "name": "stdout",
          "text": [
            "\u001b[K     |████████████████████████████████| 720 kB 7.4 MB/s \n",
            "\u001b[K     |████████████████████████████████| 189 kB 17.2 MB/s \n",
            "\u001b[K     |████████████████████████████████| 1.2 MB 49.3 MB/s \n",
            "\u001b[K     |████████████████████████████████| 48 kB 4.6 MB/s \n",
            "\u001b[K     |████████████████████████████████| 56 kB 4.2 MB/s \n",
            "\u001b[K     |████████████████████████████████| 558 kB 60.7 MB/s \n",
            "\u001b[K     |████████████████████████████████| 51 kB 280 kB/s \n",
            "\u001b[K     |████████████████████████████████| 130 kB 50.9 MB/s \n",
            "\u001b[?25hMounted at /content/gdrive\n"
          ]
        }
      ]
    },
    {
      "cell_type": "code",
      "source": [
        "#hide\n",
        "from fastbook import *\n",
        "from fastai.vision.widgets import *"
      ],
      "metadata": {
        "id": "V6aAyvomxbOL"
      },
      "execution_count": 2,
      "outputs": []
    },
    {
      "cell_type": "code",
      "source": [
        "path = Path()\n",
        "path = Path('/content/gdrive/MyDrive/Images/Tester')"
      ],
      "metadata": {
        "id": "55eMog6z4st2"
      },
      "execution_count": 3,
      "outputs": []
    },
    {
      "cell_type": "code",
      "source": [
        "learn_inf = load_learner(path/'skinModel3_0.pkl')"
      ],
      "metadata": {
        "id": "6Jgp2ZAQ4uDo"
      },
      "execution_count": 4,
      "outputs": []
    },
    {
      "cell_type": "code",
      "source": [
        "#hide_output\n",
        "btn_upload = widgets.FileUpload()\n",
        "#btn_upload"
      ],
      "metadata": {
        "id": "7t6fKP-i1oJh"
      },
      "execution_count": 12,
      "outputs": []
    },
    {
      "cell_type": "code",
      "source": [
        "#hide_output\n",
        "out_pl = widgets.Output()\n",
        "out_pl.clear_output()\n"
      ],
      "metadata": {
        "id": "4ho3i8mp1oMT"
      },
      "execution_count": 6,
      "outputs": []
    },
    {
      "cell_type": "code",
      "source": [
        "#hide_output\n",
        "lbl_pred = widgets.Label()\n"
      ],
      "metadata": {
        "id": "Vmvw8MBT1oPQ"
      },
      "execution_count": 7,
      "outputs": []
    },
    {
      "cell_type": "code",
      "source": [
        "btn_run = widgets.Button(description='Classify')\n",
        "#btn_run"
      ],
      "metadata": {
        "id": "5oTztDOV17E9"
      },
      "execution_count": 13,
      "outputs": []
    },
    {
      "cell_type": "code",
      "source": [
        "def on_click_classify(change):\n",
        "    img = PILImage.create(btn_upload.data[-1])\n",
        "    out_pl.clear_output()\n",
        "    with out_pl: display(img.to_thumb(128,128))\n",
        "    pred,pred_idx,probs = learn_inf.predict(img)\n",
        "    lbl_pred.value = f'Prediction: {pred}; Probability: {probs[pred_idx]:.04f}'\n",
        "\n",
        "btn_run.on_click(on_click_classify)"
      ],
      "metadata": {
        "id": "iQM9aXUzyq3S"
      },
      "execution_count": 14,
      "outputs": []
    },
    {
      "cell_type": "code",
      "source": [
        "#hide\n",
        "#Putting back btn_upload to a widget for next cell\n",
        "btn_upload = widgets.FileUpload()"
      ],
      "metadata": {
        "id": "6X7wfnCuys8C"
      },
      "execution_count": 15,
      "outputs": []
    },
    {
      "cell_type": "code",
      "source": [
        "#hide_output\n",
        "VBox([widgets.Label('Select your image!'), \n",
        "      btn_upload, btn_run, out_pl, lbl_pred])"
      ],
      "metadata": {
        "colab": {
          "base_uri": "https://localhost:8080/",
          "height": 231,
          "referenced_widgets": [
            "3b5ad56754634126896bf67090ddbbc2",
            "463918708bda45a794c5c741b66f9df0",
            "c005be6c52234a28a88ea82864e6a381",
            "b879905c9b5243ed8b08a273a481b632",
            "ad49517b949f4b58985eb425c466f800",
            "02ac60d6ef604bd0bedc981e5ff82c6f",
            "ec2a8a217e154440b11fc7ed64a7f072",
            "b693d0312c4545dd9c778f7f5db2b10b",
            "62902d84218d4b249e9e558686abbee8",
            "8b7bff68594b4e009efc631a74224ab9",
            "9231c761b8204f32b6b1b7fe3df53cfd",
            "dedbb42e05b7418cbed7d05603e43c47",
            "81dc2b3905ae4899b474b41658f85c6a",
            "e2df09764a7d4a2abe1e96976e545652",
            "7f2af20bfb694bf6bd7b62a52df6022f",
            "f06285ff55084e16bb50a0e813398879"
          ]
        },
        "id": "CYg2IP1Uyzlf",
        "outputId": "a8067471-3056-4895-c47e-3450b030b195"
      },
      "execution_count": 11,
      "outputs": [
        {
          "output_type": "display_data",
          "data": {
            "application/vnd.jupyter.widget-view+json": {
              "model_id": "3b5ad56754634126896bf67090ddbbc2",
              "version_minor": 0,
              "version_major": 2
            },
            "text/plain": [
              "VBox(children=(Label(value='Select your image!'), FileUpload(value={}, description='Upload'), Button(descripti…"
            ]
          },
          "metadata": {}
        },
        {
          "output_type": "display_data",
          "data": {
            "text/html": [
              ""
            ],
            "text/plain": [
              "<IPython.core.display.HTML object>"
            ]
          },
          "metadata": {}
        },
        {
          "output_type": "display_data",
          "data": {
            "text/html": [
              ""
            ],
            "text/plain": [
              "<IPython.core.display.HTML object>"
            ]
          },
          "metadata": {}
        },
        {
          "output_type": "display_data",
          "data": {
            "text/html": [
              ""
            ],
            "text/plain": [
              "<IPython.core.display.HTML object>"
            ]
          },
          "metadata": {}
        },
        {
          "output_type": "display_data",
          "data": {
            "text/html": [
              ""
            ],
            "text/plain": [
              "<IPython.core.display.HTML object>"
            ]
          },
          "metadata": {}
        },
        {
          "output_type": "display_data",
          "data": {
            "text/html": [
              ""
            ],
            "text/plain": [
              "<IPython.core.display.HTML object>"
            ]
          },
          "metadata": {}
        },
        {
          "output_type": "display_data",
          "data": {
            "text/html": [
              ""
            ],
            "text/plain": [
              "<IPython.core.display.HTML object>"
            ]
          },
          "metadata": {}
        },
        {
          "output_type": "display_data",
          "data": {
            "text/html": [
              ""
            ],
            "text/plain": [
              "<IPython.core.display.HTML object>"
            ]
          },
          "metadata": {}
        },
        {
          "output_type": "display_data",
          "data": {
            "text/html": [
              ""
            ],
            "text/plain": [
              "<IPython.core.display.HTML object>"
            ]
          },
          "metadata": {}
        },
        {
          "output_type": "display_data",
          "data": {
            "text/html": [
              ""
            ],
            "text/plain": [
              "<IPython.core.display.HTML object>"
            ]
          },
          "metadata": {}
        },
        {
          "output_type": "display_data",
          "data": {
            "text/html": [
              ""
            ],
            "text/plain": [
              "<IPython.core.display.HTML object>"
            ]
          },
          "metadata": {}
        },
        {
          "output_type": "display_data",
          "data": {
            "text/html": [
              ""
            ],
            "text/plain": [
              "<IPython.core.display.HTML object>"
            ]
          },
          "metadata": {}
        }
      ]
    },
    {
      "cell_type": "code",
      "source": [
        ""
      ],
      "metadata": {
        "id": "-GxZwbL4y1hq"
      },
      "execution_count": 24,
      "outputs": []
    }
  ]
}